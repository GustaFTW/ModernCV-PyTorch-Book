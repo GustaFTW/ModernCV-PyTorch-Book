{
 "cells": [
  {
   "cell_type": "code",
   "execution_count": 1,
   "metadata": {},
   "outputs": [],
   "source": [
    "from utils import *"
   ]
  },
  {
   "cell_type": "code",
   "execution_count": 2,
   "metadata": {},
   "outputs": [
    {
     "ename": "FileNotFoundError",
     "evalue": "[Errno 2] No such file or directory: '/l/disk0/ghenrique/Documents/Pytorch_book/code/data/cat-and-dog/Cat/5216.jpg'",
     "output_type": "error",
     "traceback": [
      "\u001b[0;31m---------------------------------------------------------------------------\u001b[0m",
      "\u001b[0;31mFileNotFoundError\u001b[0m                         Traceback (most recent call last)",
      "File \u001b[0;32m/usr/lib/python3.8/shutil.py:791\u001b[0m, in \u001b[0;36mmove\u001b[0;34m(src, dst, copy_function)\u001b[0m\n\u001b[1;32m    790\u001b[0m \u001b[39mtry\u001b[39;00m:\n\u001b[0;32m--> 791\u001b[0m     os\u001b[39m.\u001b[39;49mrename(src, real_dst)\n\u001b[1;32m    792\u001b[0m \u001b[39mexcept\u001b[39;00m \u001b[39mOSError\u001b[39;00m:\n",
      "\u001b[0;31mFileNotFoundError\u001b[0m: [Errno 2] No such file or directory: '/l/disk0/ghenrique/Documents/Pytorch_book/code/data/cat-and-dog/Cat/5216.jpg' -> '/l/disk0/ghenrique/Documents/Pytorch_book/code/data/cat-and-dog/test/Cat/5216.jpg'",
      "\nDuring handling of the above exception, another exception occurred:\n",
      "\u001b[0;31mFileNotFoundError\u001b[0m                         Traceback (most recent call last)",
      "Cell \u001b[0;32mIn[2], line 1\u001b[0m\n\u001b[0;32m----> 1\u001b[0m train_test_split_folder(\u001b[39m\"\u001b[39;49m\u001b[39m/l/disk0/ghenrique/Documents/Pytorch_book/code/data/cat-and-dog/\u001b[39;49m\u001b[39m\"\u001b[39;49m, \n\u001b[1;32m      2\u001b[0m                         output_path\u001b[39m=\u001b[39;49m \u001b[39m\"\u001b[39;49m\u001b[39m/l/disk0/ghenrique/Documents/Pytorch_book/code/data/cat-and-dog\u001b[39;49m\u001b[39m\"\u001b[39;49m, \n\u001b[1;32m      3\u001b[0m                         test_split_size\u001b[39m=\u001b[39;49m\u001b[39m0.3\u001b[39;49m)\n",
      "File \u001b[0;32m~/Documents/Pytorch_book/code/notebooks/utils.py:62\u001b[0m, in \u001b[0;36mtrain_test_split_folder\u001b[0;34m(path, output_path, test_split_size)\u001b[0m\n\u001b[1;32m     60\u001b[0m src \u001b[39m=\u001b[39m os\u001b[39m.\u001b[39mpath\u001b[39m.\u001b[39mjoin(path, class_name, image)\n\u001b[1;32m     61\u001b[0m dst \u001b[39m=\u001b[39m os\u001b[39m.\u001b[39mpath\u001b[39m.\u001b[39mjoin(class_path_test, image)\n\u001b[0;32m---> 62\u001b[0m shutil\u001b[39m.\u001b[39;49mmove(src, dst)\n",
      "File \u001b[0;32m/usr/lib/python3.8/shutil.py:811\u001b[0m, in \u001b[0;36mmove\u001b[0;34m(src, dst, copy_function)\u001b[0m\n\u001b[1;32m    809\u001b[0m         rmtree(src)\n\u001b[1;32m    810\u001b[0m     \u001b[39melse\u001b[39;00m:\n\u001b[0;32m--> 811\u001b[0m         copy_function(src, real_dst)\n\u001b[1;32m    812\u001b[0m         os\u001b[39m.\u001b[39munlink(src)\n\u001b[1;32m    813\u001b[0m \u001b[39mreturn\u001b[39;00m real_dst\n",
      "File \u001b[0;32m/usr/lib/python3.8/shutil.py:435\u001b[0m, in \u001b[0;36mcopy2\u001b[0;34m(src, dst, follow_symlinks)\u001b[0m\n\u001b[1;32m    433\u001b[0m \u001b[39mif\u001b[39;00m os\u001b[39m.\u001b[39mpath\u001b[39m.\u001b[39misdir(dst):\n\u001b[1;32m    434\u001b[0m     dst \u001b[39m=\u001b[39m os\u001b[39m.\u001b[39mpath\u001b[39m.\u001b[39mjoin(dst, os\u001b[39m.\u001b[39mpath\u001b[39m.\u001b[39mbasename(src))\n\u001b[0;32m--> 435\u001b[0m copyfile(src, dst, follow_symlinks\u001b[39m=\u001b[39;49mfollow_symlinks)\n\u001b[1;32m    436\u001b[0m copystat(src, dst, follow_symlinks\u001b[39m=\u001b[39mfollow_symlinks)\n\u001b[1;32m    437\u001b[0m \u001b[39mreturn\u001b[39;00m dst\n",
      "File \u001b[0;32m/usr/lib/python3.8/shutil.py:264\u001b[0m, in \u001b[0;36mcopyfile\u001b[0;34m(src, dst, follow_symlinks)\u001b[0m\n\u001b[1;32m    262\u001b[0m     os\u001b[39m.\u001b[39msymlink(os\u001b[39m.\u001b[39mreadlink(src), dst)\n\u001b[1;32m    263\u001b[0m \u001b[39melse\u001b[39;00m:\n\u001b[0;32m--> 264\u001b[0m     \u001b[39mwith\u001b[39;00m \u001b[39mopen\u001b[39;49m(src, \u001b[39m'\u001b[39;49m\u001b[39mrb\u001b[39;49m\u001b[39m'\u001b[39;49m) \u001b[39mas\u001b[39;00m fsrc, \u001b[39mopen\u001b[39m(dst, \u001b[39m'\u001b[39m\u001b[39mwb\u001b[39m\u001b[39m'\u001b[39m) \u001b[39mas\u001b[39;00m fdst:\n\u001b[1;32m    265\u001b[0m         \u001b[39m# macOS\u001b[39;00m\n\u001b[1;32m    266\u001b[0m         \u001b[39mif\u001b[39;00m _HAS_FCOPYFILE:\n\u001b[1;32m    267\u001b[0m             \u001b[39mtry\u001b[39;00m:\n",
      "\u001b[0;31mFileNotFoundError\u001b[0m: [Errno 2] No such file or directory: '/l/disk0/ghenrique/Documents/Pytorch_book/code/data/cat-and-dog/Cat/5216.jpg'"
     ]
    }
   ],
   "source": [
    "train_test_split_folder(\"/l/disk0/ghenrique/Documents/Pytorch_book/code/data/cat-and-dog/\", \n",
    "                        output_path= \"/l/disk0/ghenrique/Documents/Pytorch_book/code/data/cat-and-dog\", \n",
    "                        test_split_size=0.3)"
   ]
  },
  {
   "cell_type": "code",
   "execution_count": null,
   "metadata": {},
   "outputs": [],
   "source": []
  }
 ],
 "metadata": {
  "kernelspec": {
   "display_name": "Pytorch_book",
   "language": "python",
   "name": "python3"
  },
  "language_info": {
   "codemirror_mode": {
    "name": "ipython",
    "version": 3
   },
   "file_extension": ".py",
   "mimetype": "text/x-python",
   "name": "python",
   "nbconvert_exporter": "python",
   "pygments_lexer": "ipython3",
   "version": "3.8.10"
  },
  "orig_nbformat": 4
 },
 "nbformat": 4,
 "nbformat_minor": 2
}
